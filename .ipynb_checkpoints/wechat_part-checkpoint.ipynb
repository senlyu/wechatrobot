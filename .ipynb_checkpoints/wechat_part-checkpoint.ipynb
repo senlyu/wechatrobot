{
 "cells": [
  {
   "cell_type": "code",
   "execution_count": null,
   "metadata": {
    "collapsed": false,
    "deletable": true,
    "editable": true
   },
   "outputs": [],
   "source": [
    "import itchat\n",
    "import smtplib\n",
    "import pickle\n",
    "from email.mime.text import MIMEText\n",
    "from itchat.content import TEXT"
   ]
  },
  {
   "cell_type": "code",
   "execution_count": null,
   "metadata": {
    "collapsed": false,
    "deletable": true,
    "editable": true
   },
   "outputs": [],
   "source": []
  },
  {
   "cell_type": "code",
   "execution_count": null,
   "metadata": {
    "collapsed": true,
    "deletable": true,
    "editable": true
   },
   "outputs": [],
   "source": [
    "# login\n",
    "#itchat.auto_login(enableCmdQR=2)"
   ]
  },
  {
   "cell_type": "code",
   "execution_count": null,
   "metadata": {
    "collapsed": true,
    "deletable": true,
    "editable": true
   },
   "outputs": [],
   "source": [
    "# listen to the message and send back\n",
    "#send_msg(msg='Text Message', toUserName=None)"
   ]
  },
  {
   "cell_type": "code",
   "execution_count": null,
   "metadata": {
    "collapsed": true,
    "deletable": true,
    "editable": true
   },
   "outputs": [],
   "source": [
    "with open('email_list.pickle', 'rb') as f:\n",
    "    # The protocol version used is detected automatically, so we do not\n",
    "    # have to specify it.\n",
    "    data = pickle.load(f)\n",
    "    email_list = data['email_list']\n"
   ]
  },
  {
   "cell_type": "code",
   "execution_count": null,
   "metadata": {
    "collapsed": true,
    "deletable": true,
    "editable": true
   },
   "outputs": [],
   "source": [
    "# function: send email\n",
    "def send_email(email_type,email_content):\n",
    "    fromaddr = \"me@senlyu.com\"\n",
    "\n",
    "    subject = email_type\n",
    "    content = email_content\n",
    "    text_subtype = 'plain'\n",
    "    msg = MIMEText(content, text_subtype)\n",
    "    msg['Subject']= subject\n",
    "    msg['From']   = fromaddr\n",
    "\n",
    "\n",
    "    print(\"Message length is\", len(msg))\n",
    "\n",
    "    server = smtplib.SMTP('localhost',25)\n",
    "    #server.login(fromaddr,password)\n",
    "    server.set_debuglevel(1)\n",
    "    for toaddrs in email_list:\n",
    "        server.sendmail(fromaddr, toaddrs, msg.as_string())\n",
    "    \n",
    "    server.quit()"
   ]
  },
  {
   "cell_type": "code",
   "execution_count": null,
   "metadata": {
    "collapsed": true,
    "deletable": true,
    "editable": true
   },
   "outputs": [],
   "source": [
    "def add_email(new_email):\n",
    "    # An arbitrary collection of objects supported by pickle.\n",
    "    email_list.append(new_email)\n",
    "    data = {\n",
    "        'email_list' : email_list\n",
    "    }\n",
    "\n",
    "    with open('email_list.pickle', 'wb') as f:\n",
    "    # Pickle the 'data' dictionary using the highest protocol available.\n",
    "        pickle.dump(data, f)"
   ]
  },
  {
   "cell_type": "code",
   "execution_count": null,
   "metadata": {
    "collapsed": true,
    "deletable": true,
    "editable": true
   },
   "outputs": [],
   "source": [
    "def delete_email(new_email):\n",
    "    email_list.remove(new_email)\n",
    "    data = {\n",
    "        'email_list' : email_list\n",
    "    }\n",
    "\n",
    "    with open('email_list.pickle', 'wb') as f:\n",
    "    # Pickle the 'data' dictionary using the highest protocol available.\n",
    "        pickle.dump(data, f)"
   ]
  },
  {
   "cell_type": "code",
   "execution_count": null,
   "metadata": {
    "collapsed": false,
    "deletable": true,
    "editable": true
   },
   "outputs": [],
   "source": [
    "def show_email():\n",
    "    result = ''\n",
    "    for ele in email_list:\n",
    "        result = result + ele + ';'\n",
    "    return result"
   ]
  },
  {
   "cell_type": "code",
   "execution_count": null,
   "metadata": {
    "collapsed": false,
    "deletable": true,
    "editable": true
   },
   "outputs": [],
   "source": [
    "#test email add\n",
    "#add_email('jobs@senlyu.com')"
   ]
  },
  {
   "cell_type": "code",
   "execution_count": null,
   "metadata": {
    "collapsed": true,
    "deletable": true,
    "editable": true
   },
   "outputs": [],
   "source": [
    "#test email delete\n",
    "#delete_email('123@123.com')"
   ]
  },
  {
   "cell_type": "code",
   "execution_count": null,
   "metadata": {
    "collapsed": false,
    "deletable": true,
    "editable": true
   },
   "outputs": [],
   "source": [
    "#show_email()"
   ]
  },
  {
   "cell_type": "code",
   "execution_count": null,
   "metadata": {
    "collapsed": true,
    "deletable": true,
    "editable": true
   },
   "outputs": [],
   "source": []
  },
  {
   "cell_type": "code",
   "execution_count": null,
   "metadata": {
    "collapsed": true,
    "deletable": true,
    "editable": true
   },
   "outputs": [],
   "source": []
  },
  {
   "cell_type": "code",
   "execution_count": null,
   "metadata": {
    "collapsed": true,
    "deletable": true,
    "editable": true
   },
   "outputs": [],
   "source": []
  },
  {
   "cell_type": "code",
   "execution_count": null,
   "metadata": {
    "collapsed": true,
    "deletable": true,
    "editable": true
   },
   "outputs": [],
   "source": []
  },
  {
   "cell_type": "code",
   "execution_count": null,
   "metadata": {
    "collapsed": false,
    "deletable": true,
    "editable": true
   },
   "outputs": [],
   "source": [
    "@itchat.msg_register(TEXT, isGroupChat=True)\n",
    "def print_content(msg):\n",
    "    flag = False\n",
    "    if (msg['Text'][:3] == '#机会'):\n",
    "        itchat.send(msg='已经将以上信息发送到邮箱，标签机会', toUserName=msg['FromUserName'])\n",
    "        email_type = '机会'\n",
    "        flag = True\n",
    "    if (msg['Text'][:3] == '#经验'):\n",
    "        itchat.send(msg='已经将以上信息发送到邮箱，标签经验', toUserName=msg['FromUserName'])\n",
    "        email_type = '经验'\n",
    "        flag = True\n",
    "    if (msg['Text'][:3] == '#测试'):\n",
    "        itchat.send(msg='这是一条自动信息', toUserName=msg['FromUserName'])\n",
    "    if (msg['Text'][:3] == '#介绍'):\n",
    "        itchat.send(msg='我是Sam的小号机器人，我才刚诞生很不完善，我目前的工作是为Sam处理微信信息碎片化的问题，大家也可以使用。目前只有一个功能，将机会信息和经验信息，转发到邮箱。还麻烦学长学姐同学们，有分享的信息，用特殊字开头，目前仅有：#机会，#经验，邮箱信息查询输入#邮箱', toUserName=msg['FromUserName'])\n",
    "    if (msg['Text'][:3] == '#邮箱'):\n",
    "        itchat.send(msg='邮箱可以通过#添加邮箱，#删除邮箱，#显示列表，来管理，邮箱从us@senlyu.com发出，发出的邮件以“机会”或“经验”为标题，内容为整个消息，大家可以在自己邮箱设置tag来管理。举个例子，今天我发布了信息如下：#经验OPT经验。那么在邮箱列表里的邮箱会收到一封来自us@senlyu.com，以“经验”为标题，以“#经验OPT经验”为内容的邮件', toUserName=msg['FromUserName'])\n",
    "    #    email_list.append(msg[3:])\n",
    "    if (msg['Text'][:5] == '#添加邮箱'):\n",
    "        add_email(msg['Text'][6:])\n",
    "        itchat.send(msg='已添加'+msg['Text'][6:], toUserName=msg['FromUserName'])\n",
    "    if (msg['Text'][:5] == '#删除邮箱'):\n",
    "        delete_email(msg['Text'][6:])\n",
    "        itchat.send(msg='已删除'+msg['Text'][6:], toUserName=msg['FromUserName'])\n",
    "    if (msg['Text'][:5] == '#显示列表'):\n",
    "        itchat.send(msg=show_email(), toUserName=msg['FromUserName'])   \n",
    "    if (msg['Text'][:3] == '#帮助'):\n",
    "        itchat.send(msg='如需要帮助，如果想一起改进这个小玩意，请联系我，阿森Ｓam，第一次做这样的东西，多多包涵', toUserName=msg['FromUserName'])\n",
    "    if (msg['Text'][:3] == '#测试邮箱'):\n",
    "        itchat.send(msg='已经将以上信息发送到邮箱，标签经验', toUserName=msg['FromUserName'])\n",
    "        email_type = '经验'\n",
    "        email_content = msg['Text']\n",
    "        send_email(email_type,email_content)\n",
    "    if (msg['Text'][:3] == '#版本'):\n",
    "        itchat.send(msg='测试版0718，更换了邮箱服务器。带来不便深表歉意。', toUserName=msg['FromUserName'])\n",
    "    if (flag):\n",
    "        email_content = msg['Text']\n",
    "        send_email(email_type,email_content)\n",
    "        \n",
    "itchat.auto_login(hotReload=True)\n",
    "itchat.run()\n",
    "\n"
   ]
  },
  {
   "cell_type": "code",
   "execution_count": null,
   "metadata": {
    "collapsed": true,
    "deletable": true,
    "editable": true
   },
   "outputs": [],
   "source": []
  }
 ],
 "metadata": {
  "kernelspec": {
   "display_name": "Python 3",
   "language": "python",
   "name": "python3"
  },
  "language_info": {
   "codemirror_mode": {
    "name": "ipython",
    "version": 3
   },
   "file_extension": ".py",
   "mimetype": "text/x-python",
   "name": "python",
   "nbconvert_exporter": "python",
   "pygments_lexer": "ipython3",
   "version": "3.5.2"
  }
 },
 "nbformat": 4,
 "nbformat_minor": 2
}
